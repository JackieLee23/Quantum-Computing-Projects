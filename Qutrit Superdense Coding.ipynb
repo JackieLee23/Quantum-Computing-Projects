{
 "cells": [
  {
   "cell_type": "code",
   "execution_count": 1,
   "id": "456a8efd",
   "metadata": {},
   "outputs": [],
   "source": [
    "import cirq\n",
    "import numpy as np"
   ]
  },
  {
   "cell_type": "code",
   "execution_count": 2,
   "id": "9a77b492",
   "metadata": {},
   "outputs": [
    {
     "name": "stdout",
     "output_type": "stream",
     "text": [
      "[[ 0.57735027+0.j   0.57735027+0.j   0.57735027+0.j ]\n",
      " [ 0.57735027+0.j  -0.28867513+0.5j -0.28867513-0.5j]\n",
      " [ 0.57735027+0.j  -0.28867513-0.5j -0.28867513+0.5j]]\n"
     ]
    }
   ],
   "source": [
    "#Create qutrit hadamard\n",
    "w = np.exp(2 * np.pi * 1j / 3)\n",
    "\n",
    "hUnitary = np.array([[1, 1, 1],\n",
    "                         [1, w, w**2],\n",
    "                         [1, w**2, w**4]]) / np.sqrt(3)\n",
    "\n",
    "class QutritHadamard(cirq.SingleQubitGate):\n",
    "    def _qid_shape_(self):\n",
    "        return (3,)\n",
    "\n",
    "    def _unitary_(self):\n",
    "        return hUnitary\n",
    "\n",
    "    def _circuit_diagram_info_(self, args):\n",
    "        return '[H+]'\n",
    "\n",
    "print(hUnitary)"
   ]
  },
  {
   "cell_type": "code",
   "execution_count": 4,
   "id": "41ba3497",
   "metadata": {},
   "outputs": [
    {
     "name": "stdout",
     "output_type": "stream",
     "text": [
      "[[ 0.57735027+0.j   0.57735027+0.j   0.57735027+0.j ]\n",
      " [ 0.57735027+0.j  -0.28867513-0.5j -0.28867513+0.5j]\n",
      " [ 0.57735027+0.j  -0.28867513+0.5j -0.28867513-0.5j]]\n"
     ]
    }
   ],
   "source": [
    "#qutrit inverse hadamard\n",
    "#H^4 = I, so H^-1 = H^3\n",
    "\n",
    "hInvUnitary = np.array([[1, 1, 1],\n",
    "                         [1, w**2, w],\n",
    "                         [1, w, w**2]]) / np.sqrt(3)\n",
    "\n",
    "class QutritInvHadamard(cirq.SingleQubitGate):\n",
    "    def _qid_shape_(self):\n",
    "        return (3,)\n",
    "\n",
    "    def _unitary_(self):\n",
    "        return hInvUnitary\n",
    "\n",
    "    def _circuit_diagram_info_(self, args):\n",
    "        return '[H-]'\n",
    "\n",
    "print(hInvUnitary)"
   ]
  },
  {
   "cell_type": "code",
   "execution_count": 5,
   "id": "ea983d51",
   "metadata": {},
   "outputs": [
    {
     "name": "stdout",
     "output_type": "stream",
     "text": [
      "[[1. 0. 0. 0. 0. 0. 0. 0. 0.]\n",
      " [0. 1. 0. 0. 0. 0. 0. 0. 0.]\n",
      " [0. 0. 1. 0. 0. 0. 0. 0. 0.]\n",
      " [0. 0. 0. 0. 0. 1. 0. 0. 0.]\n",
      " [0. 0. 0. 1. 0. 0. 0. 0. 0.]\n",
      " [0. 0. 0. 0. 1. 0. 0. 0. 0.]\n",
      " [0. 0. 0. 0. 0. 0. 0. 1. 0.]\n",
      " [0. 0. 0. 0. 0. 0. 0. 0. 1.]\n",
      " [0. 0. 0. 0. 0. 0. 1. 0. 0.]]\n"
     ]
    }
   ],
   "source": [
    "#Create CNOT gate for qutrit\n",
    "cUnitary = np.zeros((9, 9))\n",
    "\n",
    "#Indices to turn to 1\n",
    "ons = [\n",
    "    [0, 0],\n",
    "    [1, 1],\n",
    "    [2, 2],\n",
    "    [3, 5],\n",
    "    [4, 3],\n",
    "    [5, 4],\n",
    "    [6, 7],\n",
    "    [7, 8],\n",
    "    [8, 6]\n",
    "]\n",
    "for inds in ons:\n",
    "    cUnitary[inds[0]][inds[1]] = 1\n",
    "    \n",
    "class QutritCnot(cirq.Gate):\n",
    "    def __init__(self):\n",
    "        super(QutritCnot, self)\n",
    "    \n",
    "    def _num_qubits_self(self):\n",
    "        return 2\n",
    "    \n",
    "    def _qid_shape_(self):\n",
    "        return (3,3)\n",
    "\n",
    "    def _unitary_(self):\n",
    "        return cUnitary\n",
    "\n",
    "    def _circuit_diagram_info_(self, args):\n",
    "        return 'O', 'X'\n",
    "    \n",
    "print(cUnitary)"
   ]
  },
  {
   "cell_type": "code",
   "execution_count": 6,
   "id": "8f76bc06",
   "metadata": {},
   "outputs": [
    {
     "name": "stdout",
     "output_type": "stream",
     "text": [
      "[[1. 0. 0. 0. 0. 0. 0. 0. 0.]\n",
      " [0. 1. 0. 0. 0. 0. 0. 0. 0.]\n",
      " [0. 0. 1. 0. 0. 0. 0. 0. 0.]\n",
      " [0. 0. 0. 0. 1. 0. 0. 0. 0.]\n",
      " [0. 0. 0. 0. 0. 1. 0. 0. 0.]\n",
      " [0. 0. 0. 1. 0. 0. 0. 0. 0.]\n",
      " [0. 0. 0. 0. 0. 0. 0. 0. 1.]\n",
      " [0. 0. 0. 0. 0. 0. 1. 0. 0.]\n",
      " [0. 0. 0. 0. 0. 0. 0. 1. 0.]]\n"
     ]
    }
   ],
   "source": [
    "#Create Inverse CNOT Gate, transpose of cnot\n",
    "cInvUnitary = np.transpose(cUnitary)\n",
    "class QutritInvCnot(cirq.Gate):\n",
    "    def __init__(self):\n",
    "        super(QutritInvCnot, self)\n",
    "    \n",
    "    def _num_qubits_self(self):\n",
    "        return 2\n",
    "    \n",
    "    def _qid_shape_(self):\n",
    "        return (3,3)\n",
    "\n",
    "    def _unitary_(self):\n",
    "        return cInvUnitary\n",
    "\n",
    "    def _circuit_diagram_info_(self, args):\n",
    "        return 'O', 'Y'\n",
    "    \n",
    "print(cInvUnitary)"
   ]
  },
  {
   "cell_type": "code",
   "execution_count": 7,
   "id": "e6583d3e",
   "metadata": {},
   "outputs": [],
   "source": [
    "class QutritPlusGate(cirq.SingleQubitGate):\n",
    "    def _qid_shape_(self):\n",
    "        return (3,)\n",
    "\n",
    "    def _unitary_(self):\n",
    "        return np.array([[0, 0, 1],\n",
    "                         [1, 0, 0],\n",
    "                         [0, 1, 0]])\n",
    "\n",
    "    def _circuit_diagram_info_(self, args):\n",
    "        return '[+1]'"
   ]
  },
  {
   "cell_type": "code",
   "execution_count": 8,
   "id": "16e3a3eb",
   "metadata": {},
   "outputs": [],
   "source": [
    "class QutritMinusGate(cirq.SingleQubitGate):\n",
    "    def _qid_shape_(self):\n",
    "        return (3,)\n",
    "\n",
    "    def _unitary_(self):\n",
    "        return np.array([[0, 1, 0],\n",
    "                         [0, 0, 1],\n",
    "                         [1, 0, 0]])\n",
    "\n",
    "    def _circuit_diagram_info_(self, args):\n",
    "        return '[-1]'"
   ]
  },
  {
   "cell_type": "code",
   "execution_count": 9,
   "id": "453438f5",
   "metadata": {},
   "outputs": [],
   "source": [
    "class QutritZGate(cirq.SingleQubitGate):\n",
    "    def _qid_shape_(self):\n",
    "        return (3,)\n",
    "\n",
    "    def _unitary_(self):\n",
    "        return np.array([[1, 0, 0],\n",
    "                         [0, w, 0],\n",
    "                         [0, 0, w**2]])\n",
    "\n",
    "    def _circuit_diagram_info_(self, args):\n",
    "        return 'Z'"
   ]
  },
  {
   "cell_type": "code",
   "execution_count": 15,
   "id": "e11ed352",
   "metadata": {},
   "outputs": [],
   "source": [
    "def seeState(circuit):\n",
    "    s = cirq.Simulator()\n",
    "    results = s.simulate(circuit)\n",
    "    \n",
    "    print(\"Circuit: \")\n",
    "    print(circuit)\n",
    "    print(\"\\nThe state is:\\n {}\".format(results.dirac_notation()))\n",
    "\n",
    "def entangle(q0, q1, circuit):\n",
    "    circuit.append(QutritHadamard().on(q0))\n",
    "    circuit.append(QutritCnot().on(q0, q1))\n",
    "    \n",
    "def aliceOperation(values, q0, circuit):\n",
    "    for i in range(values[1]):\n",
    "        circuit.append(QutritMinusGate().on(q0))\n",
    "    \n",
    "    for i in range(values[0]):\n",
    "        circuit.append(QutritZGate().on(q0))\n",
    "    \n",
    "        \n",
    "def bobOperation(q0, q1, circuit):\n",
    "    circuit.append(QutritInvCnot().on(q0, q1))\n",
    "    circuit.append(QutritInvHadamard().on(q0))"
   ]
  },
  {
   "cell_type": "code",
   "execution_count": 53,
   "id": "df66a976",
   "metadata": {},
   "outputs": [
    {
     "name": "stdout",
     "output_type": "stream",
     "text": [
      "Circuit: \n",
      "0 (d=3): ───[H+]───O───\n",
      "                   │\n",
      "1 (d=3): ──────────X───\n",
      "\n",
      "The state is:\n",
      " 0.58|00⟩ + 0.58|11⟩ + 0.58|22⟩\n"
     ]
    }
   ],
   "source": [
    "#Define 2 digit base 3 number to be transmitted\n",
    "values = (2, 2)\n",
    "\n",
    "#Entangle qutrits\n",
    "q0 = cirq.LineQid(0, dimension=3)\n",
    "q1 = cirq.LineQid(1, dimension=3)\n",
    "circuit = cirq.Circuit()\n",
    "entangle(q0, q1, circuit)\n",
    "seeState(circuit)\n"
   ]
  },
  {
   "cell_type": "code",
   "execution_count": 54,
   "id": "010c60a4",
   "metadata": {},
   "outputs": [
    {
     "name": "stdout",
     "output_type": "stream",
     "text": [
      "Circuit: \n",
      "0 (d=3): ───[H+]───O───[-1]───[-1]───Z───Z───\n",
      "                   │\n",
      "1 (d=3): ──────────X─────────────────────────\n",
      "\n",
      "The state is:\n",
      " 0.58|02⟩ + (-0.29-0.5j)|10⟩ + (-0.29+0.5j)|21⟩\n"
     ]
    }
   ],
   "source": [
    "#Alice operations\n",
    "aliceOperation(values, q0, circuit)\n",
    "seeState(circuit)"
   ]
  },
  {
   "cell_type": "code",
   "execution_count": 55,
   "id": "54aa5d15",
   "metadata": {},
   "outputs": [
    {
     "name": "stdout",
     "output_type": "stream",
     "text": [
      "Circuit: \n",
      "0 (d=3): ───[H+]───O───[-1]───[-1]───Z───Z───O───[H-]───\n",
      "                   │                         │\n",
      "1 (d=3): ──────────X─────────────────────────Y──────────\n",
      "\n",
      "The state is:\n",
      " |22⟩\n"
     ]
    }
   ],
   "source": [
    "#Bob operations\n",
    "bobOperation(q0, q1, circuit)\n",
    "seeState(circuit)"
   ]
  }
 ],
 "metadata": {
  "kernelspec": {
   "display_name": "Python 3 (ipykernel)",
   "language": "python",
   "name": "python3"
  },
  "language_info": {
   "codemirror_mode": {
    "name": "ipython",
    "version": 3
   },
   "file_extension": ".py",
   "mimetype": "text/x-python",
   "name": "python",
   "nbconvert_exporter": "python",
   "pygments_lexer": "ipython3",
   "version": "3.9.7"
  }
 },
 "nbformat": 4,
 "nbformat_minor": 5
}
